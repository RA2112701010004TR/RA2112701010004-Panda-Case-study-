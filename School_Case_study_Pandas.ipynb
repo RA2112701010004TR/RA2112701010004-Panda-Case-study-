{
  "nbformat": 4,
  "nbformat_minor": 0,
  "metadata": {
    "colab": {
      "name": "School Case study Pandas.ipynb",
      "provenance": [],
      "authorship_tag": "ABX9TyOXNuzHY3QOeWWNbTRnz6Oe",
      "include_colab_link": true
    },
    "kernelspec": {
      "name": "python3",
      "display_name": "Python 3"
    },
    "language_info": {
      "name": "python"
    }
  },
  "cells": [
    {
      "cell_type": "markdown",
      "metadata": {
        "id": "view-in-github",
        "colab_type": "text"
      },
      "source": [
        "<a href=\"https://colab.research.google.com/github/RA2112701010004TR/RA2112701010004-Panda-Case-study-/blob/main/School_Case_study_Pandas.ipynb\" target=\"_parent\"><img src=\"https://colab.research.google.com/assets/colab-badge.svg\" alt=\"Open In Colab\"/></a>"
      ]
    },
    {
      "cell_type": "code",
      "execution_count": 1,
      "metadata": {
        "colab": {
          "resources": {
            "http://localhost:8080/nbextensions/google.colab/files.js": {
              "data": "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",
              "ok": true,
              "headers": [
                [
                  "content-type",
                  "application/javascript"
                ]
              ],
              "status": 200,
              "status_text": ""
            }
          },
          "base_uri": "https://localhost:8080/",
          "height": 73
        },
        "id": "3OzttC3E4x0G",
        "outputId": "465c4333-0051-42f8-9ecb-04a0964437ea"
      },
      "outputs": [
        {
          "output_type": "display_data",
          "data": {
            "text/html": [
              "\n",
              "     <input type=\"file\" id=\"files-04ecad16-9b93-4e13-9d40-6b5306a9a3b1\" name=\"files[]\" multiple disabled\n",
              "        style=\"border:none\" />\n",
              "     <output id=\"result-04ecad16-9b93-4e13-9d40-6b5306a9a3b1\">\n",
              "      Upload widget is only available when the cell has been executed in the\n",
              "      current browser session. Please rerun this cell to enable.\n",
              "      </output>\n",
              "      <script src=\"/nbextensions/google.colab/files.js\"></script> "
            ],
            "text/plain": [
              "<IPython.core.display.HTML object>"
            ]
          },
          "metadata": {}
        },
        {
          "output_type": "stream",
          "name": "stdout",
          "text": [
            "Saving CASchools.csv to CASchools (1).csv\n"
          ]
        }
      ],
      "source": [
        "from google.colab import files\n",
        "uploaded = files.upload()"
      ]
    },
    {
      "cell_type": "code",
      "source": [
        "import pandas as pd\n",
        "data=pd.read_csv('CASchools.csv')\n",
        "data"
      ],
      "metadata": {
        "colab": {
          "base_uri": "https://localhost:8080/",
          "height": 783
        },
        "id": "Y2ZPc0Ur6dFj",
        "outputId": "e45a1430-7f37-4a96-a43f-7066d9597641"
      },
      "execution_count": 3,
      "outputs": [
        {
          "output_type": "execute_result",
          "data": {
            "text/html": [
              "\n",
              "  <div id=\"df-56685e1b-0640-4ec7-96d9-b442cd2beea7\">\n",
              "    <div class=\"colab-df-container\">\n",
              "      <div>\n",
              "<style scoped>\n",
              "    .dataframe tbody tr th:only-of-type {\n",
              "        vertical-align: middle;\n",
              "    }\n",
              "\n",
              "    .dataframe tbody tr th {\n",
              "        vertical-align: top;\n",
              "    }\n",
              "\n",
              "    .dataframe thead th {\n",
              "        text-align: right;\n",
              "    }\n",
              "</style>\n",
              "<table border=\"1\" class=\"dataframe\">\n",
              "  <thead>\n",
              "    <tr style=\"text-align: right;\">\n",
              "      <th></th>\n",
              "      <th>Unnamed: 0</th>\n",
              "      <th>district</th>\n",
              "      <th>school</th>\n",
              "      <th>county</th>\n",
              "      <th>grades</th>\n",
              "      <th>students</th>\n",
              "      <th>teachers</th>\n",
              "      <th>calworks</th>\n",
              "      <th>lunch</th>\n",
              "      <th>computer</th>\n",
              "      <th>expenditure</th>\n",
              "      <th>income</th>\n",
              "      <th>english</th>\n",
              "      <th>read</th>\n",
              "      <th>math</th>\n",
              "    </tr>\n",
              "  </thead>\n",
              "  <tbody>\n",
              "    <tr>\n",
              "      <th>0</th>\n",
              "      <td>1</td>\n",
              "      <td>75119</td>\n",
              "      <td>Sunol Glen Unified</td>\n",
              "      <td>Alameda</td>\n",
              "      <td>KK-08</td>\n",
              "      <td>195</td>\n",
              "      <td>10.900000</td>\n",
              "      <td>0.510200</td>\n",
              "      <td>2.040800</td>\n",
              "      <td>67</td>\n",
              "      <td>6384.911133</td>\n",
              "      <td>22.690001</td>\n",
              "      <td>0.000000</td>\n",
              "      <td>691.599976</td>\n",
              "      <td>690.000000</td>\n",
              "    </tr>\n",
              "    <tr>\n",
              "      <th>1</th>\n",
              "      <td>2</td>\n",
              "      <td>61499</td>\n",
              "      <td>Manzanita Elementary</td>\n",
              "      <td>Butte</td>\n",
              "      <td>KK-08</td>\n",
              "      <td>240</td>\n",
              "      <td>11.150000</td>\n",
              "      <td>15.416700</td>\n",
              "      <td>47.916698</td>\n",
              "      <td>101</td>\n",
              "      <td>5099.380859</td>\n",
              "      <td>9.824000</td>\n",
              "      <td>4.583333</td>\n",
              "      <td>660.500000</td>\n",
              "      <td>661.900024</td>\n",
              "    </tr>\n",
              "    <tr>\n",
              "      <th>2</th>\n",
              "      <td>3</td>\n",
              "      <td>61549</td>\n",
              "      <td>Thermalito Union Elementary</td>\n",
              "      <td>Butte</td>\n",
              "      <td>KK-08</td>\n",
              "      <td>1550</td>\n",
              "      <td>82.900002</td>\n",
              "      <td>55.032299</td>\n",
              "      <td>76.322601</td>\n",
              "      <td>169</td>\n",
              "      <td>5501.954590</td>\n",
              "      <td>8.978000</td>\n",
              "      <td>30.000002</td>\n",
              "      <td>636.299988</td>\n",
              "      <td>650.900024</td>\n",
              "    </tr>\n",
              "    <tr>\n",
              "      <th>3</th>\n",
              "      <td>4</td>\n",
              "      <td>61457</td>\n",
              "      <td>Golden Feather Union Elementary</td>\n",
              "      <td>Butte</td>\n",
              "      <td>KK-08</td>\n",
              "      <td>243</td>\n",
              "      <td>14.000000</td>\n",
              "      <td>36.475399</td>\n",
              "      <td>77.049202</td>\n",
              "      <td>85</td>\n",
              "      <td>7101.831055</td>\n",
              "      <td>8.978000</td>\n",
              "      <td>0.000000</td>\n",
              "      <td>651.900024</td>\n",
              "      <td>643.500000</td>\n",
              "    </tr>\n",
              "    <tr>\n",
              "      <th>4</th>\n",
              "      <td>5</td>\n",
              "      <td>61523</td>\n",
              "      <td>Palermo Union Elementary</td>\n",
              "      <td>Butte</td>\n",
              "      <td>KK-08</td>\n",
              "      <td>1335</td>\n",
              "      <td>71.500000</td>\n",
              "      <td>33.108601</td>\n",
              "      <td>78.427002</td>\n",
              "      <td>171</td>\n",
              "      <td>5235.987793</td>\n",
              "      <td>9.080333</td>\n",
              "      <td>13.857677</td>\n",
              "      <td>641.799988</td>\n",
              "      <td>639.900024</td>\n",
              "    </tr>\n",
              "    <tr>\n",
              "      <th>...</th>\n",
              "      <td>...</td>\n",
              "      <td>...</td>\n",
              "      <td>...</td>\n",
              "      <td>...</td>\n",
              "      <td>...</td>\n",
              "      <td>...</td>\n",
              "      <td>...</td>\n",
              "      <td>...</td>\n",
              "      <td>...</td>\n",
              "      <td>...</td>\n",
              "      <td>...</td>\n",
              "      <td>...</td>\n",
              "      <td>...</td>\n",
              "      <td>...</td>\n",
              "      <td>...</td>\n",
              "    </tr>\n",
              "    <tr>\n",
              "      <th>415</th>\n",
              "      <td>416</td>\n",
              "      <td>68957</td>\n",
              "      <td>Las Lomitas Elementary</td>\n",
              "      <td>San Mateo</td>\n",
              "      <td>KK-08</td>\n",
              "      <td>984</td>\n",
              "      <td>59.730000</td>\n",
              "      <td>0.101600</td>\n",
              "      <td>3.556900</td>\n",
              "      <td>195</td>\n",
              "      <td>7290.338867</td>\n",
              "      <td>28.716999</td>\n",
              "      <td>5.995935</td>\n",
              "      <td>700.900024</td>\n",
              "      <td>707.700012</td>\n",
              "    </tr>\n",
              "    <tr>\n",
              "      <th>416</th>\n",
              "      <td>417</td>\n",
              "      <td>69518</td>\n",
              "      <td>Los Altos Elementary</td>\n",
              "      <td>Santa Clara</td>\n",
              "      <td>KK-08</td>\n",
              "      <td>3724</td>\n",
              "      <td>208.479996</td>\n",
              "      <td>1.074100</td>\n",
              "      <td>1.503800</td>\n",
              "      <td>721</td>\n",
              "      <td>5741.462891</td>\n",
              "      <td>41.734108</td>\n",
              "      <td>4.726101</td>\n",
              "      <td>704.000000</td>\n",
              "      <td>709.500000</td>\n",
              "    </tr>\n",
              "    <tr>\n",
              "      <th>417</th>\n",
              "      <td>418</td>\n",
              "      <td>72611</td>\n",
              "      <td>Somis Union Elementary</td>\n",
              "      <td>Ventura</td>\n",
              "      <td>KK-08</td>\n",
              "      <td>441</td>\n",
              "      <td>20.150000</td>\n",
              "      <td>3.563500</td>\n",
              "      <td>37.193802</td>\n",
              "      <td>45</td>\n",
              "      <td>4402.831543</td>\n",
              "      <td>23.733000</td>\n",
              "      <td>24.263039</td>\n",
              "      <td>648.299988</td>\n",
              "      <td>641.700012</td>\n",
              "    </tr>\n",
              "    <tr>\n",
              "      <th>418</th>\n",
              "      <td>419</td>\n",
              "      <td>72744</td>\n",
              "      <td>Plumas Elementary</td>\n",
              "      <td>Yuba</td>\n",
              "      <td>KK-08</td>\n",
              "      <td>101</td>\n",
              "      <td>5.000000</td>\n",
              "      <td>11.881200</td>\n",
              "      <td>59.405899</td>\n",
              "      <td>14</td>\n",
              "      <td>4776.336426</td>\n",
              "      <td>9.952000</td>\n",
              "      <td>2.970297</td>\n",
              "      <td>667.900024</td>\n",
              "      <td>676.500000</td>\n",
              "    </tr>\n",
              "    <tr>\n",
              "      <th>419</th>\n",
              "      <td>420</td>\n",
              "      <td>72751</td>\n",
              "      <td>Wheatland Elementary</td>\n",
              "      <td>Yuba</td>\n",
              "      <td>KK-08</td>\n",
              "      <td>1778</td>\n",
              "      <td>93.400002</td>\n",
              "      <td>6.923500</td>\n",
              "      <td>47.571201</td>\n",
              "      <td>313</td>\n",
              "      <td>5993.392578</td>\n",
              "      <td>12.502000</td>\n",
              "      <td>5.005624</td>\n",
              "      <td>660.500000</td>\n",
              "      <td>651.000000</td>\n",
              "    </tr>\n",
              "  </tbody>\n",
              "</table>\n",
              "<p>420 rows × 15 columns</p>\n",
              "</div>\n",
              "      <button class=\"colab-df-convert\" onclick=\"convertToInteractive('df-56685e1b-0640-4ec7-96d9-b442cd2beea7')\"\n",
              "              title=\"Convert this dataframe to an interactive table.\"\n",
              "              style=\"display:none;\">\n",
              "        \n",
              "  <svg xmlns=\"http://www.w3.org/2000/svg\" height=\"24px\"viewBox=\"0 0 24 24\"\n",
              "       width=\"24px\">\n",
              "    <path d=\"M0 0h24v24H0V0z\" fill=\"none\"/>\n",
              "    <path d=\"M18.56 5.44l.94 2.06.94-2.06 2.06-.94-2.06-.94-.94-2.06-.94 2.06-2.06.94zm-11 1L8.5 8.5l.94-2.06 2.06-.94-2.06-.94L8.5 2.5l-.94 2.06-2.06.94zm10 10l.94 2.06.94-2.06 2.06-.94-2.06-.94-.94-2.06-.94 2.06-2.06.94z\"/><path d=\"M17.41 7.96l-1.37-1.37c-.4-.4-.92-.59-1.43-.59-.52 0-1.04.2-1.43.59L10.3 9.45l-7.72 7.72c-.78.78-.78 2.05 0 2.83L4 21.41c.39.39.9.59 1.41.59.51 0 1.02-.2 1.41-.59l7.78-7.78 2.81-2.81c.8-.78.8-2.07 0-2.86zM5.41 20L4 18.59l7.72-7.72 1.47 1.35L5.41 20z\"/>\n",
              "  </svg>\n",
              "      </button>\n",
              "      \n",
              "  <style>\n",
              "    .colab-df-container {\n",
              "      display:flex;\n",
              "      flex-wrap:wrap;\n",
              "      gap: 12px;\n",
              "    }\n",
              "\n",
              "    .colab-df-convert {\n",
              "      background-color: #E8F0FE;\n",
              "      border: none;\n",
              "      border-radius: 50%;\n",
              "      cursor: pointer;\n",
              "      display: none;\n",
              "      fill: #1967D2;\n",
              "      height: 32px;\n",
              "      padding: 0 0 0 0;\n",
              "      width: 32px;\n",
              "    }\n",
              "\n",
              "    .colab-df-convert:hover {\n",
              "      background-color: #E2EBFA;\n",
              "      box-shadow: 0px 1px 2px rgba(60, 64, 67, 0.3), 0px 1px 3px 1px rgba(60, 64, 67, 0.15);\n",
              "      fill: #174EA6;\n",
              "    }\n",
              "\n",
              "    [theme=dark] .colab-df-convert {\n",
              "      background-color: #3B4455;\n",
              "      fill: #D2E3FC;\n",
              "    }\n",
              "\n",
              "    [theme=dark] .colab-df-convert:hover {\n",
              "      background-color: #434B5C;\n",
              "      box-shadow: 0px 1px 3px 1px rgba(0, 0, 0, 0.15);\n",
              "      filter: drop-shadow(0px 1px 2px rgba(0, 0, 0, 0.3));\n",
              "      fill: #FFFFFF;\n",
              "    }\n",
              "  </style>\n",
              "\n",
              "      <script>\n",
              "        const buttonEl =\n",
              "          document.querySelector('#df-56685e1b-0640-4ec7-96d9-b442cd2beea7 button.colab-df-convert');\n",
              "        buttonEl.style.display =\n",
              "          google.colab.kernel.accessAllowed ? 'block' : 'none';\n",
              "\n",
              "        async function convertToInteractive(key) {\n",
              "          const element = document.querySelector('#df-56685e1b-0640-4ec7-96d9-b442cd2beea7');\n",
              "          const dataTable =\n",
              "            await google.colab.kernel.invokeFunction('convertToInteractive',\n",
              "                                                     [key], {});\n",
              "          if (!dataTable) return;\n",
              "\n",
              "          const docLinkHtml = 'Like what you see? Visit the ' +\n",
              "            '<a target=\"_blank\" href=https://colab.research.google.com/notebooks/data_table.ipynb>data table notebook</a>'\n",
              "            + ' to learn more about interactive tables.';\n",
              "          element.innerHTML = '';\n",
              "          dataTable['output_type'] = 'display_data';\n",
              "          await google.colab.output.renderOutput(dataTable, element);\n",
              "          const docLink = document.createElement('div');\n",
              "          docLink.innerHTML = docLinkHtml;\n",
              "          element.appendChild(docLink);\n",
              "        }\n",
              "      </script>\n",
              "    </div>\n",
              "  </div>\n",
              "  "
            ],
            "text/plain": [
              "     Unnamed: 0  district  ...        read        math\n",
              "0             1     75119  ...  691.599976  690.000000\n",
              "1             2     61499  ...  660.500000  661.900024\n",
              "2             3     61549  ...  636.299988  650.900024\n",
              "3             4     61457  ...  651.900024  643.500000\n",
              "4             5     61523  ...  641.799988  639.900024\n",
              "..          ...       ...  ...         ...         ...\n",
              "415         416     68957  ...  700.900024  707.700012\n",
              "416         417     69518  ...  704.000000  709.500000\n",
              "417         418     72611  ...  648.299988  641.700012\n",
              "418         419     72744  ...  667.900024  676.500000\n",
              "419         420     72751  ...  660.500000  651.000000\n",
              "\n",
              "[420 rows x 15 columns]"
            ]
          },
          "metadata": {},
          "execution_count": 3
        }
      ]
    },
    {
      "cell_type": "markdown",
      "source": [
        "\n",
        "**To Display Top 10 Rows of The Dataset:**"
      ],
      "metadata": {
        "id": "0vrLV7Ev7IIW"
      }
    },
    {
      "cell_type": "code",
      "source": [
        "data.head(10)"
      ],
      "metadata": {
        "colab": {
          "base_uri": "https://localhost:8080/",
          "height": 739
        },
        "id": "9RNgUa4k7LSJ",
        "outputId": "96bb26ef-68ad-432c-94f7-a556e007a2af"
      },
      "execution_count": 4,
      "outputs": [
        {
          "output_type": "execute_result",
          "data": {
            "text/html": [
              "\n",
              "  <div id=\"df-35a84005-ec21-4ab6-8fa8-0ee106d7323c\">\n",
              "    <div class=\"colab-df-container\">\n",
              "      <div>\n",
              "<style scoped>\n",
              "    .dataframe tbody tr th:only-of-type {\n",
              "        vertical-align: middle;\n",
              "    }\n",
              "\n",
              "    .dataframe tbody tr th {\n",
              "        vertical-align: top;\n",
              "    }\n",
              "\n",
              "    .dataframe thead th {\n",
              "        text-align: right;\n",
              "    }\n",
              "</style>\n",
              "<table border=\"1\" class=\"dataframe\">\n",
              "  <thead>\n",
              "    <tr style=\"text-align: right;\">\n",
              "      <th></th>\n",
              "      <th>Unnamed: 0</th>\n",
              "      <th>district</th>\n",
              "      <th>school</th>\n",
              "      <th>county</th>\n",
              "      <th>grades</th>\n",
              "      <th>students</th>\n",
              "      <th>teachers</th>\n",
              "      <th>calworks</th>\n",
              "      <th>lunch</th>\n",
              "      <th>computer</th>\n",
              "      <th>expenditure</th>\n",
              "      <th>income</th>\n",
              "      <th>english</th>\n",
              "      <th>read</th>\n",
              "      <th>math</th>\n",
              "    </tr>\n",
              "  </thead>\n",
              "  <tbody>\n",
              "    <tr>\n",
              "      <th>0</th>\n",
              "      <td>1</td>\n",
              "      <td>75119</td>\n",
              "      <td>Sunol Glen Unified</td>\n",
              "      <td>Alameda</td>\n",
              "      <td>KK-08</td>\n",
              "      <td>195</td>\n",
              "      <td>10.900000</td>\n",
              "      <td>0.510200</td>\n",
              "      <td>2.040800</td>\n",
              "      <td>67</td>\n",
              "      <td>6384.911133</td>\n",
              "      <td>22.690001</td>\n",
              "      <td>0.000000</td>\n",
              "      <td>691.599976</td>\n",
              "      <td>690.000000</td>\n",
              "    </tr>\n",
              "    <tr>\n",
              "      <th>1</th>\n",
              "      <td>2</td>\n",
              "      <td>61499</td>\n",
              "      <td>Manzanita Elementary</td>\n",
              "      <td>Butte</td>\n",
              "      <td>KK-08</td>\n",
              "      <td>240</td>\n",
              "      <td>11.150000</td>\n",
              "      <td>15.416700</td>\n",
              "      <td>47.916698</td>\n",
              "      <td>101</td>\n",
              "      <td>5099.380859</td>\n",
              "      <td>9.824000</td>\n",
              "      <td>4.583333</td>\n",
              "      <td>660.500000</td>\n",
              "      <td>661.900024</td>\n",
              "    </tr>\n",
              "    <tr>\n",
              "      <th>2</th>\n",
              "      <td>3</td>\n",
              "      <td>61549</td>\n",
              "      <td>Thermalito Union Elementary</td>\n",
              "      <td>Butte</td>\n",
              "      <td>KK-08</td>\n",
              "      <td>1550</td>\n",
              "      <td>82.900002</td>\n",
              "      <td>55.032299</td>\n",
              "      <td>76.322601</td>\n",
              "      <td>169</td>\n",
              "      <td>5501.954590</td>\n",
              "      <td>8.978000</td>\n",
              "      <td>30.000002</td>\n",
              "      <td>636.299988</td>\n",
              "      <td>650.900024</td>\n",
              "    </tr>\n",
              "    <tr>\n",
              "      <th>3</th>\n",
              "      <td>4</td>\n",
              "      <td>61457</td>\n",
              "      <td>Golden Feather Union Elementary</td>\n",
              "      <td>Butte</td>\n",
              "      <td>KK-08</td>\n",
              "      <td>243</td>\n",
              "      <td>14.000000</td>\n",
              "      <td>36.475399</td>\n",
              "      <td>77.049202</td>\n",
              "      <td>85</td>\n",
              "      <td>7101.831055</td>\n",
              "      <td>8.978000</td>\n",
              "      <td>0.000000</td>\n",
              "      <td>651.900024</td>\n",
              "      <td>643.500000</td>\n",
              "    </tr>\n",
              "    <tr>\n",
              "      <th>4</th>\n",
              "      <td>5</td>\n",
              "      <td>61523</td>\n",
              "      <td>Palermo Union Elementary</td>\n",
              "      <td>Butte</td>\n",
              "      <td>KK-08</td>\n",
              "      <td>1335</td>\n",
              "      <td>71.500000</td>\n",
              "      <td>33.108601</td>\n",
              "      <td>78.427002</td>\n",
              "      <td>171</td>\n",
              "      <td>5235.987793</td>\n",
              "      <td>9.080333</td>\n",
              "      <td>13.857677</td>\n",
              "      <td>641.799988</td>\n",
              "      <td>639.900024</td>\n",
              "    </tr>\n",
              "    <tr>\n",
              "      <th>5</th>\n",
              "      <td>6</td>\n",
              "      <td>62042</td>\n",
              "      <td>Burrel Union Elementary</td>\n",
              "      <td>Fresno</td>\n",
              "      <td>KK-08</td>\n",
              "      <td>137</td>\n",
              "      <td>6.400000</td>\n",
              "      <td>12.318800</td>\n",
              "      <td>86.956497</td>\n",
              "      <td>25</td>\n",
              "      <td>5580.146973</td>\n",
              "      <td>10.415000</td>\n",
              "      <td>12.408759</td>\n",
              "      <td>605.700012</td>\n",
              "      <td>605.400024</td>\n",
              "    </tr>\n",
              "    <tr>\n",
              "      <th>6</th>\n",
              "      <td>7</td>\n",
              "      <td>68536</td>\n",
              "      <td>Holt Union Elementary</td>\n",
              "      <td>San Joaquin</td>\n",
              "      <td>KK-08</td>\n",
              "      <td>195</td>\n",
              "      <td>10.000000</td>\n",
              "      <td>12.903200</td>\n",
              "      <td>94.623703</td>\n",
              "      <td>28</td>\n",
              "      <td>5253.331055</td>\n",
              "      <td>6.577000</td>\n",
              "      <td>68.717949</td>\n",
              "      <td>604.500000</td>\n",
              "      <td>609.000000</td>\n",
              "    </tr>\n",
              "    <tr>\n",
              "      <th>7</th>\n",
              "      <td>8</td>\n",
              "      <td>63834</td>\n",
              "      <td>Vineland Elementary</td>\n",
              "      <td>Kern</td>\n",
              "      <td>KK-08</td>\n",
              "      <td>888</td>\n",
              "      <td>42.500000</td>\n",
              "      <td>18.806299</td>\n",
              "      <td>100.000000</td>\n",
              "      <td>66</td>\n",
              "      <td>4565.746094</td>\n",
              "      <td>8.174000</td>\n",
              "      <td>46.959461</td>\n",
              "      <td>605.500000</td>\n",
              "      <td>612.500000</td>\n",
              "    </tr>\n",
              "    <tr>\n",
              "      <th>8</th>\n",
              "      <td>9</td>\n",
              "      <td>62331</td>\n",
              "      <td>Orange Center Elementary</td>\n",
              "      <td>Fresno</td>\n",
              "      <td>KK-08</td>\n",
              "      <td>379</td>\n",
              "      <td>19.000000</td>\n",
              "      <td>32.189999</td>\n",
              "      <td>93.139801</td>\n",
              "      <td>35</td>\n",
              "      <td>5355.548340</td>\n",
              "      <td>7.385000</td>\n",
              "      <td>30.079157</td>\n",
              "      <td>608.900024</td>\n",
              "      <td>616.099976</td>\n",
              "    </tr>\n",
              "    <tr>\n",
              "      <th>9</th>\n",
              "      <td>10</td>\n",
              "      <td>67306</td>\n",
              "      <td>Del Paso Heights Elementary</td>\n",
              "      <td>Sacramento</td>\n",
              "      <td>KK-06</td>\n",
              "      <td>2247</td>\n",
              "      <td>108.000000</td>\n",
              "      <td>78.994202</td>\n",
              "      <td>87.316399</td>\n",
              "      <td>0</td>\n",
              "      <td>5036.211426</td>\n",
              "      <td>11.613333</td>\n",
              "      <td>40.275921</td>\n",
              "      <td>611.900024</td>\n",
              "      <td>613.400024</td>\n",
              "    </tr>\n",
              "  </tbody>\n",
              "</table>\n",
              "</div>\n",
              "      <button class=\"colab-df-convert\" onclick=\"convertToInteractive('df-35a84005-ec21-4ab6-8fa8-0ee106d7323c')\"\n",
              "              title=\"Convert this dataframe to an interactive table.\"\n",
              "              style=\"display:none;\">\n",
              "        \n",
              "  <svg xmlns=\"http://www.w3.org/2000/svg\" height=\"24px\"viewBox=\"0 0 24 24\"\n",
              "       width=\"24px\">\n",
              "    <path d=\"M0 0h24v24H0V0z\" fill=\"none\"/>\n",
              "    <path d=\"M18.56 5.44l.94 2.06.94-2.06 2.06-.94-2.06-.94-.94-2.06-.94 2.06-2.06.94zm-11 1L8.5 8.5l.94-2.06 2.06-.94-2.06-.94L8.5 2.5l-.94 2.06-2.06.94zm10 10l.94 2.06.94-2.06 2.06-.94-2.06-.94-.94-2.06-.94 2.06-2.06.94z\"/><path d=\"M17.41 7.96l-1.37-1.37c-.4-.4-.92-.59-1.43-.59-.52 0-1.04.2-1.43.59L10.3 9.45l-7.72 7.72c-.78.78-.78 2.05 0 2.83L4 21.41c.39.39.9.59 1.41.59.51 0 1.02-.2 1.41-.59l7.78-7.78 2.81-2.81c.8-.78.8-2.07 0-2.86zM5.41 20L4 18.59l7.72-7.72 1.47 1.35L5.41 20z\"/>\n",
              "  </svg>\n",
              "      </button>\n",
              "      \n",
              "  <style>\n",
              "    .colab-df-container {\n",
              "      display:flex;\n",
              "      flex-wrap:wrap;\n",
              "      gap: 12px;\n",
              "    }\n",
              "\n",
              "    .colab-df-convert {\n",
              "      background-color: #E8F0FE;\n",
              "      border: none;\n",
              "      border-radius: 50%;\n",
              "      cursor: pointer;\n",
              "      display: none;\n",
              "      fill: #1967D2;\n",
              "      height: 32px;\n",
              "      padding: 0 0 0 0;\n",
              "      width: 32px;\n",
              "    }\n",
              "\n",
              "    .colab-df-convert:hover {\n",
              "      background-color: #E2EBFA;\n",
              "      box-shadow: 0px 1px 2px rgba(60, 64, 67, 0.3), 0px 1px 3px 1px rgba(60, 64, 67, 0.15);\n",
              "      fill: #174EA6;\n",
              "    }\n",
              "\n",
              "    [theme=dark] .colab-df-convert {\n",
              "      background-color: #3B4455;\n",
              "      fill: #D2E3FC;\n",
              "    }\n",
              "\n",
              "    [theme=dark] .colab-df-convert:hover {\n",
              "      background-color: #434B5C;\n",
              "      box-shadow: 0px 1px 3px 1px rgba(0, 0, 0, 0.15);\n",
              "      filter: drop-shadow(0px 1px 2px rgba(0, 0, 0, 0.3));\n",
              "      fill: #FFFFFF;\n",
              "    }\n",
              "  </style>\n",
              "\n",
              "      <script>\n",
              "        const buttonEl =\n",
              "          document.querySelector('#df-35a84005-ec21-4ab6-8fa8-0ee106d7323c button.colab-df-convert');\n",
              "        buttonEl.style.display =\n",
              "          google.colab.kernel.accessAllowed ? 'block' : 'none';\n",
              "\n",
              "        async function convertToInteractive(key) {\n",
              "          const element = document.querySelector('#df-35a84005-ec21-4ab6-8fa8-0ee106d7323c');\n",
              "          const dataTable =\n",
              "            await google.colab.kernel.invokeFunction('convertToInteractive',\n",
              "                                                     [key], {});\n",
              "          if (!dataTable) return;\n",
              "\n",
              "          const docLinkHtml = 'Like what you see? Visit the ' +\n",
              "            '<a target=\"_blank\" href=https://colab.research.google.com/notebooks/data_table.ipynb>data table notebook</a>'\n",
              "            + ' to learn more about interactive tables.';\n",
              "          element.innerHTML = '';\n",
              "          dataTable['output_type'] = 'display_data';\n",
              "          await google.colab.output.renderOutput(dataTable, element);\n",
              "          const docLink = document.createElement('div');\n",
              "          docLink.innerHTML = docLinkHtml;\n",
              "          element.appendChild(docLink);\n",
              "        }\n",
              "      </script>\n",
              "    </div>\n",
              "  </div>\n",
              "  "
            ],
            "text/plain": [
              "   Unnamed: 0  district  ...        read        math\n",
              "0           1     75119  ...  691.599976  690.000000\n",
              "1           2     61499  ...  660.500000  661.900024\n",
              "2           3     61549  ...  636.299988  650.900024\n",
              "3           4     61457  ...  651.900024  643.500000\n",
              "4           5     61523  ...  641.799988  639.900024\n",
              "5           6     62042  ...  605.700012  605.400024\n",
              "6           7     68536  ...  604.500000  609.000000\n",
              "7           8     63834  ...  605.500000  612.500000\n",
              "8           9     62331  ...  608.900024  616.099976\n",
              "9          10     67306  ...  611.900024  613.400024\n",
              "\n",
              "[10 rows x 15 columns]"
            ]
          },
          "metadata": {},
          "execution_count": 4
        }
      ]
    },
    {
      "cell_type": "markdown",
      "source": [
        "**Check Datatype of Each Column**"
      ],
      "metadata": {
        "id": "2QKXzziM7fvh"
      }
    },
    {
      "cell_type": "code",
      "source": [
        "data.dtypes"
      ],
      "metadata": {
        "colab": {
          "base_uri": "https://localhost:8080/"
        },
        "id": "hjqJlQW07idi",
        "outputId": "d28acd7d-0eeb-4f3c-d341-2cb35a1192e8"
      },
      "execution_count": 5,
      "outputs": [
        {
          "output_type": "execute_result",
          "data": {
            "text/plain": [
              "Unnamed: 0       int64\n",
              "district         int64\n",
              "school          object\n",
              "county          object\n",
              "grades          object\n",
              "students         int64\n",
              "teachers       float64\n",
              "calworks       float64\n",
              "lunch          float64\n",
              "computer         int64\n",
              "expenditure    float64\n",
              "income         float64\n",
              "english        float64\n",
              "read           float64\n",
              "math           float64\n",
              "dtype: object"
            ]
          },
          "metadata": {},
          "execution_count": 5
        }
      ]
    },
    {
      "cell_type": "markdown",
      "source": [
        "**Check Last 10 Rows of The Dataset**"
      ],
      "metadata": {
        "id": "UnqYA9k57lKj"
      }
    },
    {
      "cell_type": "code",
      "source": [
        "data.tail(10)"
      ],
      "metadata": {
        "colab": {
          "base_uri": "https://localhost:8080/",
          "height": 705
        },
        "id": "9fqJlxAo7nr7",
        "outputId": "aea9ca6d-6872-49e4-ebc1-8042f7ced634"
      },
      "execution_count": 6,
      "outputs": [
        {
          "output_type": "execute_result",
          "data": {
            "text/html": [
              "\n",
              "  <div id=\"df-419df957-bab4-4065-9319-0b5ba0e7e079\">\n",
              "    <div class=\"colab-df-container\">\n",
              "      <div>\n",
              "<style scoped>\n",
              "    .dataframe tbody tr th:only-of-type {\n",
              "        vertical-align: middle;\n",
              "    }\n",
              "\n",
              "    .dataframe tbody tr th {\n",
              "        vertical-align: top;\n",
              "    }\n",
              "\n",
              "    .dataframe thead th {\n",
              "        text-align: right;\n",
              "    }\n",
              "</style>\n",
              "<table border=\"1\" class=\"dataframe\">\n",
              "  <thead>\n",
              "    <tr style=\"text-align: right;\">\n",
              "      <th></th>\n",
              "      <th>Unnamed: 0</th>\n",
              "      <th>district</th>\n",
              "      <th>school</th>\n",
              "      <th>county</th>\n",
              "      <th>grades</th>\n",
              "      <th>students</th>\n",
              "      <th>teachers</th>\n",
              "      <th>calworks</th>\n",
              "      <th>lunch</th>\n",
              "      <th>computer</th>\n",
              "      <th>expenditure</th>\n",
              "      <th>income</th>\n",
              "      <th>english</th>\n",
              "      <th>read</th>\n",
              "      <th>math</th>\n",
              "    </tr>\n",
              "  </thead>\n",
              "  <tbody>\n",
              "    <tr>\n",
              "      <th>410</th>\n",
              "      <td>411</td>\n",
              "      <td>61770</td>\n",
              "      <td>Orinda Union Elementary</td>\n",
              "      <td>Contra Costa</td>\n",
              "      <td>KK-08</td>\n",
              "      <td>2422</td>\n",
              "      <td>139.470001</td>\n",
              "      <td>0.0000</td>\n",
              "      <td>0.123900</td>\n",
              "      <td>466</td>\n",
              "      <td>5933.154297</td>\n",
              "      <td>40.264000</td>\n",
              "      <td>0.578035</td>\n",
              "      <td>699.099976</td>\n",
              "      <td>697.299988</td>\n",
              "    </tr>\n",
              "    <tr>\n",
              "      <th>411</th>\n",
              "      <td>412</td>\n",
              "      <td>68908</td>\n",
              "      <td>Hillsborough City Elementary</td>\n",
              "      <td>San Mateo</td>\n",
              "      <td>KK-08</td>\n",
              "      <td>1318</td>\n",
              "      <td>87.059998</td>\n",
              "      <td>0.1517</td>\n",
              "      <td>0.000000</td>\n",
              "      <td>412</td>\n",
              "      <td>7593.405762</td>\n",
              "      <td>35.810001</td>\n",
              "      <td>2.807284</td>\n",
              "      <td>695.400024</td>\n",
              "      <td>701.099976</td>\n",
              "    </tr>\n",
              "    <tr>\n",
              "      <th>412</th>\n",
              "      <td>413</td>\n",
              "      <td>69161</td>\n",
              "      <td>Cold Spring Elementary</td>\n",
              "      <td>Santa Barbara</td>\n",
              "      <td>KK-06</td>\n",
              "      <td>220</td>\n",
              "      <td>12.330000</td>\n",
              "      <td>0.4545</td>\n",
              "      <td>0.000000</td>\n",
              "      <td>22</td>\n",
              "      <td>6500.449707</td>\n",
              "      <td>43.230000</td>\n",
              "      <td>1.363636</td>\n",
              "      <td>693.299988</td>\n",
              "      <td>703.599976</td>\n",
              "    </tr>\n",
              "    <tr>\n",
              "      <th>413</th>\n",
              "      <td>414</td>\n",
              "      <td>68981</td>\n",
              "      <td>Portola Valley Elementary</td>\n",
              "      <td>San Mateo</td>\n",
              "      <td>KK-08</td>\n",
              "      <td>687</td>\n",
              "      <td>44.590000</td>\n",
              "      <td>0.3049</td>\n",
              "      <td>0.000000</td>\n",
              "      <td>209</td>\n",
              "      <td>7217.263184</td>\n",
              "      <td>50.676998</td>\n",
              "      <td>1.164483</td>\n",
              "      <td>698.299988</td>\n",
              "      <td>699.900024</td>\n",
              "    </tr>\n",
              "    <tr>\n",
              "      <th>414</th>\n",
              "      <td>415</td>\n",
              "      <td>69682</td>\n",
              "      <td>Saratoga Union Elementary</td>\n",
              "      <td>Santa Clara</td>\n",
              "      <td>KK-08</td>\n",
              "      <td>2341</td>\n",
              "      <td>124.089996</td>\n",
              "      <td>0.1709</td>\n",
              "      <td>0.598000</td>\n",
              "      <td>286</td>\n",
              "      <td>5392.638672</td>\n",
              "      <td>40.402000</td>\n",
              "      <td>2.050406</td>\n",
              "      <td>698.900024</td>\n",
              "      <td>701.700012</td>\n",
              "    </tr>\n",
              "    <tr>\n",
              "      <th>415</th>\n",
              "      <td>416</td>\n",
              "      <td>68957</td>\n",
              "      <td>Las Lomitas Elementary</td>\n",
              "      <td>San Mateo</td>\n",
              "      <td>KK-08</td>\n",
              "      <td>984</td>\n",
              "      <td>59.730000</td>\n",
              "      <td>0.1016</td>\n",
              "      <td>3.556900</td>\n",
              "      <td>195</td>\n",
              "      <td>7290.338867</td>\n",
              "      <td>28.716999</td>\n",
              "      <td>5.995935</td>\n",
              "      <td>700.900024</td>\n",
              "      <td>707.700012</td>\n",
              "    </tr>\n",
              "    <tr>\n",
              "      <th>416</th>\n",
              "      <td>417</td>\n",
              "      <td>69518</td>\n",
              "      <td>Los Altos Elementary</td>\n",
              "      <td>Santa Clara</td>\n",
              "      <td>KK-08</td>\n",
              "      <td>3724</td>\n",
              "      <td>208.479996</td>\n",
              "      <td>1.0741</td>\n",
              "      <td>1.503800</td>\n",
              "      <td>721</td>\n",
              "      <td>5741.462891</td>\n",
              "      <td>41.734108</td>\n",
              "      <td>4.726101</td>\n",
              "      <td>704.000000</td>\n",
              "      <td>709.500000</td>\n",
              "    </tr>\n",
              "    <tr>\n",
              "      <th>417</th>\n",
              "      <td>418</td>\n",
              "      <td>72611</td>\n",
              "      <td>Somis Union Elementary</td>\n",
              "      <td>Ventura</td>\n",
              "      <td>KK-08</td>\n",
              "      <td>441</td>\n",
              "      <td>20.150000</td>\n",
              "      <td>3.5635</td>\n",
              "      <td>37.193802</td>\n",
              "      <td>45</td>\n",
              "      <td>4402.831543</td>\n",
              "      <td>23.733000</td>\n",
              "      <td>24.263039</td>\n",
              "      <td>648.299988</td>\n",
              "      <td>641.700012</td>\n",
              "    </tr>\n",
              "    <tr>\n",
              "      <th>418</th>\n",
              "      <td>419</td>\n",
              "      <td>72744</td>\n",
              "      <td>Plumas Elementary</td>\n",
              "      <td>Yuba</td>\n",
              "      <td>KK-08</td>\n",
              "      <td>101</td>\n",
              "      <td>5.000000</td>\n",
              "      <td>11.8812</td>\n",
              "      <td>59.405899</td>\n",
              "      <td>14</td>\n",
              "      <td>4776.336426</td>\n",
              "      <td>9.952000</td>\n",
              "      <td>2.970297</td>\n",
              "      <td>667.900024</td>\n",
              "      <td>676.500000</td>\n",
              "    </tr>\n",
              "    <tr>\n",
              "      <th>419</th>\n",
              "      <td>420</td>\n",
              "      <td>72751</td>\n",
              "      <td>Wheatland Elementary</td>\n",
              "      <td>Yuba</td>\n",
              "      <td>KK-08</td>\n",
              "      <td>1778</td>\n",
              "      <td>93.400002</td>\n",
              "      <td>6.9235</td>\n",
              "      <td>47.571201</td>\n",
              "      <td>313</td>\n",
              "      <td>5993.392578</td>\n",
              "      <td>12.502000</td>\n",
              "      <td>5.005624</td>\n",
              "      <td>660.500000</td>\n",
              "      <td>651.000000</td>\n",
              "    </tr>\n",
              "  </tbody>\n",
              "</table>\n",
              "</div>\n",
              "      <button class=\"colab-df-convert\" onclick=\"convertToInteractive('df-419df957-bab4-4065-9319-0b5ba0e7e079')\"\n",
              "              title=\"Convert this dataframe to an interactive table.\"\n",
              "              style=\"display:none;\">\n",
              "        \n",
              "  <svg xmlns=\"http://www.w3.org/2000/svg\" height=\"24px\"viewBox=\"0 0 24 24\"\n",
              "       width=\"24px\">\n",
              "    <path d=\"M0 0h24v24H0V0z\" fill=\"none\"/>\n",
              "    <path d=\"M18.56 5.44l.94 2.06.94-2.06 2.06-.94-2.06-.94-.94-2.06-.94 2.06-2.06.94zm-11 1L8.5 8.5l.94-2.06 2.06-.94-2.06-.94L8.5 2.5l-.94 2.06-2.06.94zm10 10l.94 2.06.94-2.06 2.06-.94-2.06-.94-.94-2.06-.94 2.06-2.06.94z\"/><path d=\"M17.41 7.96l-1.37-1.37c-.4-.4-.92-.59-1.43-.59-.52 0-1.04.2-1.43.59L10.3 9.45l-7.72 7.72c-.78.78-.78 2.05 0 2.83L4 21.41c.39.39.9.59 1.41.59.51 0 1.02-.2 1.41-.59l7.78-7.78 2.81-2.81c.8-.78.8-2.07 0-2.86zM5.41 20L4 18.59l7.72-7.72 1.47 1.35L5.41 20z\"/>\n",
              "  </svg>\n",
              "      </button>\n",
              "      \n",
              "  <style>\n",
              "    .colab-df-container {\n",
              "      display:flex;\n",
              "      flex-wrap:wrap;\n",
              "      gap: 12px;\n",
              "    }\n",
              "\n",
              "    .colab-df-convert {\n",
              "      background-color: #E8F0FE;\n",
              "      border: none;\n",
              "      border-radius: 50%;\n",
              "      cursor: pointer;\n",
              "      display: none;\n",
              "      fill: #1967D2;\n",
              "      height: 32px;\n",
              "      padding: 0 0 0 0;\n",
              "      width: 32px;\n",
              "    }\n",
              "\n",
              "    .colab-df-convert:hover {\n",
              "      background-color: #E2EBFA;\n",
              "      box-shadow: 0px 1px 2px rgba(60, 64, 67, 0.3), 0px 1px 3px 1px rgba(60, 64, 67, 0.15);\n",
              "      fill: #174EA6;\n",
              "    }\n",
              "\n",
              "    [theme=dark] .colab-df-convert {\n",
              "      background-color: #3B4455;\n",
              "      fill: #D2E3FC;\n",
              "    }\n",
              "\n",
              "    [theme=dark] .colab-df-convert:hover {\n",
              "      background-color: #434B5C;\n",
              "      box-shadow: 0px 1px 3px 1px rgba(0, 0, 0, 0.15);\n",
              "      filter: drop-shadow(0px 1px 2px rgba(0, 0, 0, 0.3));\n",
              "      fill: #FFFFFF;\n",
              "    }\n",
              "  </style>\n",
              "\n",
              "      <script>\n",
              "        const buttonEl =\n",
              "          document.querySelector('#df-419df957-bab4-4065-9319-0b5ba0e7e079 button.colab-df-convert');\n",
              "        buttonEl.style.display =\n",
              "          google.colab.kernel.accessAllowed ? 'block' : 'none';\n",
              "\n",
              "        async function convertToInteractive(key) {\n",
              "          const element = document.querySelector('#df-419df957-bab4-4065-9319-0b5ba0e7e079');\n",
              "          const dataTable =\n",
              "            await google.colab.kernel.invokeFunction('convertToInteractive',\n",
              "                                                     [key], {});\n",
              "          if (!dataTable) return;\n",
              "\n",
              "          const docLinkHtml = 'Like what you see? Visit the ' +\n",
              "            '<a target=\"_blank\" href=https://colab.research.google.com/notebooks/data_table.ipynb>data table notebook</a>'\n",
              "            + ' to learn more about interactive tables.';\n",
              "          element.innerHTML = '';\n",
              "          dataTable['output_type'] = 'display_data';\n",
              "          await google.colab.output.renderOutput(dataTable, element);\n",
              "          const docLink = document.createElement('div');\n",
              "          docLink.innerHTML = docLinkHtml;\n",
              "          element.appendChild(docLink);\n",
              "        }\n",
              "      </script>\n",
              "    </div>\n",
              "  </div>\n",
              "  "
            ],
            "text/plain": [
              "     Unnamed: 0  district  ...        read        math\n",
              "410         411     61770  ...  699.099976  697.299988\n",
              "411         412     68908  ...  695.400024  701.099976\n",
              "412         413     69161  ...  693.299988  703.599976\n",
              "413         414     68981  ...  698.299988  699.900024\n",
              "414         415     69682  ...  698.900024  701.700012\n",
              "415         416     68957  ...  700.900024  707.700012\n",
              "416         417     69518  ...  704.000000  709.500000\n",
              "417         418     72611  ...  648.299988  641.700012\n",
              "418         419     72744  ...  667.900024  676.500000\n",
              "419         420     72751  ...  660.500000  651.000000\n",
              "\n",
              "[10 rows x 15 columns]"
            ]
          },
          "metadata": {},
          "execution_count": 6
        }
      ]
    },
    {
      "cell_type": "markdown",
      "source": [
        "**How many rows and columns are there in our Dataset?**"
      ],
      "metadata": {
        "id": "1eM_ga0w7qC8"
      }
    },
    {
      "cell_type": "code",
      "source": [
        "len(data.columns)"
      ],
      "metadata": {
        "colab": {
          "base_uri": "https://localhost:8080/"
        },
        "id": "Yz-sRos47vGX",
        "outputId": "553ba94c-4006-46ac-c3c5-6a8da35845c8"
      },
      "execution_count": 7,
      "outputs": [
        {
          "output_type": "execute_result",
          "data": {
            "text/plain": [
              "15"
            ]
          },
          "metadata": {},
          "execution_count": 7
        }
      ]
    },
    {
      "cell_type": "code",
      "source": [
        "len(data)"
      ],
      "metadata": {
        "colab": {
          "base_uri": "https://localhost:8080/"
        },
        "id": "QGRqu7Em70a6",
        "outputId": "26481308-970a-4461-9a58-ba4f3dd3a505"
      },
      "execution_count": 8,
      "outputs": [
        {
          "output_type": "execute_result",
          "data": {
            "text/plain": [
              "420"
            ]
          },
          "metadata": {},
          "execution_count": 8
        }
      ]
    },
    {
      "cell_type": "code",
      "source": [
        "data.info"
      ],
      "metadata": {
        "colab": {
          "base_uri": "https://localhost:8080/"
        },
        "id": "L7F89sq972G2",
        "outputId": "711a391c-4e17-4c24-b0ae-4755548fdc95"
      },
      "execution_count": 9,
      "outputs": [
        {
          "output_type": "execute_result",
          "data": {
            "text/plain": [
              "<bound method DataFrame.info of      Unnamed: 0  district  ...        read        math\n",
              "0             1     75119  ...  691.599976  690.000000\n",
              "1             2     61499  ...  660.500000  661.900024\n",
              "2             3     61549  ...  636.299988  650.900024\n",
              "3             4     61457  ...  651.900024  643.500000\n",
              "4             5     61523  ...  641.799988  639.900024\n",
              "..          ...       ...  ...         ...         ...\n",
              "415         416     68957  ...  700.900024  707.700012\n",
              "416         417     69518  ...  704.000000  709.500000\n",
              "417         418     72611  ...  648.299988  641.700012\n",
              "418         419     72744  ...  667.900024  676.500000\n",
              "419         420     72751  ...  660.500000  651.000000\n",
              "\n",
              "[420 rows x 15 columns]>"
            ]
          },
          "metadata": {},
          "execution_count": 9
        }
      ]
    },
    {
      "cell_type": "markdown",
      "source": [
        "**Check null values in the dataset**"
      ],
      "metadata": {
        "id": "RYP92bp8741I"
      }
    },
    {
      "cell_type": "code",
      "source": [
        "data.isnull().sum"
      ],
      "metadata": {
        "colab": {
          "base_uri": "https://localhost:8080/"
        },
        "id": "-W1jyhBT78pO",
        "outputId": "e4118b7b-bab1-4ef6-fa5c-0a37631db6b0"
      },
      "execution_count": 10,
      "outputs": [
        {
          "output_type": "execute_result",
          "data": {
            "text/plain": [
              "<bound method DataFrame.sum of      Unnamed: 0  district  school  county  ...  income  english   read   math\n",
              "0         False     False   False   False  ...   False    False  False  False\n",
              "1         False     False   False   False  ...   False    False  False  False\n",
              "2         False     False   False   False  ...   False    False  False  False\n",
              "3         False     False   False   False  ...   False    False  False  False\n",
              "4         False     False   False   False  ...   False    False  False  False\n",
              "..          ...       ...     ...     ...  ...     ...      ...    ...    ...\n",
              "415       False     False   False   False  ...   False    False  False  False\n",
              "416       False     False   False   False  ...   False    False  False  False\n",
              "417       False     False   False   False  ...   False    False  False  False\n",
              "418       False     False   False   False  ...   False    False  False  False\n",
              "419       False     False   False   False  ...   False    False  False  False\n",
              "\n",
              "[420 rows x 15 columns]>"
            ]
          },
          "metadata": {},
          "execution_count": 10
        }
      ]
    },
    {
      "cell_type": "markdown",
      "source": [
        "\n",
        "**Average Income**\n",
        "\n"
      ],
      "metadata": {
        "id": "Nu-dp7ZD7_yi"
      }
    },
    {
      "cell_type": "code",
      "source": [
        "data['income'].mean()"
      ],
      "metadata": {
        "colab": {
          "base_uri": "https://localhost:8080/"
        },
        "id": "gJrxyeYI8azf",
        "outputId": "61a37ab2-16ad-41cc-b4dc-50ddd09ee309"
      },
      "execution_count": 14,
      "outputs": [
        {
          "output_type": "execute_result",
          "data": {
            "text/plain": [
              "15.316588053249177"
            ]
          },
          "metadata": {},
          "execution_count": 14
        }
      ]
    },
    {
      "cell_type": "markdown",
      "source": [
        "**Average Expenditure**"
      ],
      "metadata": {
        "id": "xT41rc5F8odP"
      }
    },
    {
      "cell_type": "code",
      "source": [
        "data['expenditure'].mean()"
      ],
      "metadata": {
        "colab": {
          "base_uri": "https://localhost:8080/"
        },
        "id": "V7jTaqc59iYS",
        "outputId": "00e7c2d3-04a2-401a-afa6-a5fab3c6a52d"
      },
      "execution_count": 15,
      "outputs": [
        {
          "output_type": "execute_result",
          "data": {
            "text/plain": [
              "5312.407541038877"
            ]
          },
          "metadata": {},
          "execution_count": 15
        }
      ]
    },
    {
      "cell_type": "markdown",
      "source": [
        "**Students from different country**"
      ],
      "metadata": {
        "id": "gNO6SZsv-VW8"
      }
    },
    {
      "cell_type": "code",
      "source": [
        "data.columns"
      ],
      "metadata": {
        "colab": {
          "base_uri": "https://localhost:8080/"
        },
        "id": "XQZfGDTq93wt",
        "outputId": "856cc120-2fa3-4920-b2bb-3fc20c6d7608"
      },
      "execution_count": 16,
      "outputs": [
        {
          "output_type": "execute_result",
          "data": {
            "text/plain": [
              "Index(['Unnamed: 0', 'district', 'school', 'county', 'grades', 'students',\n",
              "       'teachers', 'calworks', 'lunch', 'computer', 'expenditure', 'income',\n",
              "       'english', 'read', 'math'],\n",
              "      dtype='object')"
            ]
          },
          "metadata": {},
          "execution_count": 16
        }
      ]
    },
    {
      "cell_type": "code",
      "source": [
        "data['county'].value_counts()"
      ],
      "metadata": {
        "colab": {
          "base_uri": "https://localhost:8080/"
        },
        "id": "Qvzr_DZQ-KJN",
        "outputId": "375eede8-87b5-44f1-e1f9-ab0f16b23329"
      },
      "execution_count": 17,
      "outputs": [
        {
          "output_type": "execute_result",
          "data": {
            "text/plain": [
              "Sonoma             29\n",
              "Los Angeles        27\n",
              "Kern               27\n",
              "Tulare             24\n",
              "San Diego          21\n",
              "Santa Clara        20\n",
              "Humboldt           17\n",
              "San Mateo          17\n",
              "Shasta             13\n",
              "Fresno             12\n",
              "Merced             11\n",
              "Placer             11\n",
              "Orange             11\n",
              "Santa Barbara      11\n",
              "San Bernardino     10\n",
              "El Dorado          10\n",
              "Kings               9\n",
              "Nevada              9\n",
              "Ventura             9\n",
              "Siskiyou            9\n",
              "Marin               8\n",
              "Tehama              8\n",
              "Santa Cruz          7\n",
              "Contra Costa        7\n",
              "Stanislaus          7\n",
              "Monterey            7\n",
              "Sacramento          7\n",
              "Sutter              6\n",
              "Tuolumne            6\n",
              "Imperial            6\n",
              "San Joaquin         6\n",
              "Butte               6\n",
              "Lassen              5\n",
              "Madera              5\n",
              "Riverside           4\n",
              "Glenn               3\n",
              "San Benito          3\n",
              "San Luis Obispo     2\n",
              "Yuba                2\n",
              "Lake                2\n",
              "Trinity             2\n",
              "Mendocino           1\n",
              "Inyo                1\n",
              "Alameda             1\n",
              "Calaveras           1\n",
              "Name: county, dtype: int64"
            ]
          },
          "metadata": {},
          "execution_count": 17
        }
      ]
    },
    {
      "cell_type": "markdown",
      "source": [
        "**Total number of students who have KK-06 grade**"
      ],
      "metadata": {
        "id": "CQNnuGFK-eM6"
      }
    },
    {
      "cell_type": "code",
      "source": [
        "data.columns"
      ],
      "metadata": {
        "colab": {
          "base_uri": "https://localhost:8080/"
        },
        "id": "2GubYIHV-6vk",
        "outputId": "1d8e053d-74ed-41ee-e75b-0df30fc2edf8"
      },
      "execution_count": 18,
      "outputs": [
        {
          "output_type": "execute_result",
          "data": {
            "text/plain": [
              "Index(['Unnamed: 0', 'district', 'school', 'county', 'grades', 'students',\n",
              "       'teachers', 'calworks', 'lunch', 'computer', 'expenditure', 'income',\n",
              "       'english', 'read', 'math'],\n",
              "      dtype='object')"
            ]
          },
          "metadata": {},
          "execution_count": 18
        }
      ]
    },
    {
      "cell_type": "code",
      "source": [
        "len(data[data['grades'].str.contains('kk-06',case=False)])"
      ],
      "metadata": {
        "colab": {
          "base_uri": "https://localhost:8080/"
        },
        "id": "XpiqlUbK--F8",
        "outputId": "26799f8c-8adc-48d3-8449-39752feb2b29"
      },
      "execution_count": 19,
      "outputs": [
        {
          "output_type": "execute_result",
          "data": {
            "text/plain": [
              "61"
            ]
          },
          "metadata": {},
          "execution_count": 19
        }
      ]
    },
    {
      "cell_type": "markdown",
      "source": [
        "**Total number of students who have KK-08 grade**"
      ],
      "metadata": {
        "id": "iUqhImdX_SwE"
      }
    },
    {
      "cell_type": "code",
      "source": [
        "data.columns"
      ],
      "metadata": {
        "colab": {
          "base_uri": "https://localhost:8080/"
        },
        "id": "fMKoq-Qv_WHr",
        "outputId": "e8e865b3-b69b-4dc9-dc8c-fdb1e7934c0e"
      },
      "execution_count": 20,
      "outputs": [
        {
          "output_type": "execute_result",
          "data": {
            "text/plain": [
              "Index(['Unnamed: 0', 'district', 'school', 'county', 'grades', 'students',\n",
              "       'teachers', 'calworks', 'lunch', 'computer', 'expenditure', 'income',\n",
              "       'english', 'read', 'math'],\n",
              "      dtype='object')"
            ]
          },
          "metadata": {},
          "execution_count": 20
        }
      ]
    },
    {
      "cell_type": "code",
      "source": [
        "len(data[data['grades'].str.contains('kk-08',case=False)])"
      ],
      "metadata": {
        "colab": {
          "base_uri": "https://localhost:8080/"
        },
        "id": "S5sVqMcI_YYs",
        "outputId": "db46f0e8-09f9-4d59-86aa-8d17830d0d33"
      },
      "execution_count": 22,
      "outputs": [
        {
          "output_type": "execute_result",
          "data": {
            "text/plain": [
              "359"
            ]
          },
          "metadata": {},
          "execution_count": 22
        }
      ]
    },
    {
      "cell_type": "markdown",
      "source": [
        "**Average math mark**"
      ],
      "metadata": {
        "id": "4UnH8W9fAC6D"
      }
    },
    {
      "cell_type": "code",
      "source": [
        "data.columns"
      ],
      "metadata": {
        "colab": {
          "base_uri": "https://localhost:8080/"
        },
        "id": "MMTejcV0_ufL",
        "outputId": "a2ee8378-e7b4-4949-8e30-15939932fdb4"
      },
      "execution_count": 23,
      "outputs": [
        {
          "output_type": "execute_result",
          "data": {
            "text/plain": [
              "Index(['Unnamed: 0', 'district', 'school', 'county', 'grades', 'students',\n",
              "       'teachers', 'calworks', 'lunch', 'computer', 'expenditure', 'income',\n",
              "       'english', 'read', 'math'],\n",
              "      dtype='object')"
            ]
          },
          "metadata": {},
          "execution_count": 23
        }
      ]
    },
    {
      "cell_type": "code",
      "source": [
        "data['math'].mean()"
      ],
      "metadata": {
        "colab": {
          "base_uri": "https://localhost:8080/"
        },
        "id": "PJZsv2Xm_wwn",
        "outputId": "c2459d90-2060-4080-fd6f-f9f7de7cff98"
      },
      "execution_count": 24,
      "outputs": [
        {
          "output_type": "execute_result",
          "data": {
            "text/plain": [
              "653.3426185244606"
            ]
          },
          "metadata": {},
          "execution_count": 24
        }
      ]
    }
  ]
}